{
 "cells": [
  {
   "cell_type": "markdown",
   "id": "f955f5ee",
   "metadata": {},
   "source": [
    "The `print()` command is used to display output to the console"
   ]
  },
  {
   "cell_type": "code",
   "execution_count": null,
   "id": "5c7cde98",
   "metadata": {},
   "outputs": [
    {
     "ename": "",
     "evalue": "",
     "output_type": "error",
     "traceback": [
      "\u001b[1;31mFailed to start the Kernel. \n",
      "\u001b[1;31mView Jupyter <a href='command:jupyter.viewOutput'>log</a> for further details."
     ]
    }
   ],
   "source": [
    "x = \"The quick brown fox jumps over the lazy dog\"\n",
    "print(x)"
   ]
  },
  {
   "cell_type": "markdown",
   "id": "08869e9f",
   "metadata": {},
   "source": [
    "`print()` command, the output is shown in the console. The next `print()` command continues in the same line. \n",
    "\n",
    "The `println()` command prints and moves the print cursor to the next line."
   ]
  },
  {
   "cell_type": "markdown",
   "id": "f6c2b2b9",
   "metadata": {},
   "source": [
    "# Declaring and Intializing variables in Julia\n",
    "Variables in Julia can be declared by just writing their name. There’s no need to define a datatype with it. Initializing variables can be done at the time of declaring variables. This can be done by simply assigning a value to the named variable."
   ]
  },
  {
   "cell_type": "code",
   "execution_count": 4,
   "id": "a68e95b2",
   "metadata": {},
   "outputs": [
    {
     "name": "stdout",
     "output_type": "stream",
     "text": [
      "10\n",
      "Random String\n"
     ]
    }
   ],
   "source": [
    "x = 10\n",
    "y = \"Random String\"\n",
    "println(x)\n",
    "println(y)"
   ]
  },
  {
   "cell_type": "markdown",
   "id": "9d9ccdd2",
   "metadata": {},
   "source": [
    "Rules for naming a variable in Julia:\n",
    "* Variable names in Julia must start with an underscore, a letter(A-Z or a-z) or a Unicode character greater than 00A0(nbsp).\n",
    "* Variable names can also contain digits(0-9) or !, but must not begin with these.\n",
    "* Operators like (+, ^, etc.) can also be used to name a variable.\n",
    "* Variable names can also be written as words separated by underscore, but that is not a good practice and must be avoided unless necessary."
   ]
  },
  {
   "cell_type": "code",
   "execution_count": 15,
   "id": "1c2891b9",
   "metadata": {},
   "outputs": [
    {
     "name": "stdout",
     "output_type": "stream",
     "text": [
      "10\n",
      "Hello World\n",
      "-15.5\n",
      "a\n"
     ]
    }
   ],
   "source": [
    "# Julia program to define variables\n",
    "\n",
    "# Assigning Integer\n",
    "x = 10\n",
    "\n",
    "# Assigning String\n",
    "y = \"Hello World\"\n",
    "\n",
    "# Assigning Float Value\n",
    "z = -15.5\n",
    "\n",
    "# Using Operator as variable name\n",
    "+ = \"a\"\n",
    "\n",
    "\n",
    "\n",
    "println(x)\n",
    "println(y)\n",
    "println(z)\n",
    "println(+)\n"
   ]
  },
  {
   "cell_type": "markdown",
   "id": "4ec93924",
   "metadata": {},
   "source": [
    "In Julia, in order to find the datatype, you use the `typeof()` command"
   ]
  },
  {
   "cell_type": "code",
   "execution_count": 16,
   "id": "df533b49",
   "metadata": {},
   "outputs": [
    {
     "name": "stdout",
     "output_type": "stream",
     "text": [
      "Int64\n",
      "Float64\n"
     ]
    }
   ],
   "source": [
    "println(typeof(x))\n",
    "println(typeof(z))"
   ]
  },
  {
   "cell_type": "markdown",
   "id": "69aacf00",
   "metadata": {},
   "source": [
    "# Taking User Input and Assigning to a Variable"
   ]
  },
  {
   "cell_type": "markdown",
   "id": "0b7ab7c7",
   "metadata": {},
   "source": [
    "Reading user input is a way of interaction between the program and the user. User inputs are necessary in case of testing a piece of code with varying and legitimate inputs.\n",
    "\n",
    "Reading user inputs from console in Julia can be done through inbuilt I/O methods like :\n",
    "\n",
    "* `readline()`\n",
    "* `readlines()`\n",
    "\n",
    "Let's ignore `readlines()` for the time being."
   ]
  },
  {
   "cell_type": "markdown",
   "id": "4714ca6d",
   "metadata": {},
   "source": [
    "The `readline()` function takes the input from the user and reads until a `\\n` character is encountered. It automatically assigns the datatype of String to the variable"
   ]
  },
  {
   "cell_type": "code",
   "execution_count": 10,
   "id": "0e5339d0",
   "metadata": {},
   "outputs": [
    {
     "name": "stdout",
     "output_type": "stream",
     "text": [
      "What's your name ? \n",
      "\n",
      "stdin> 69\n",
      "The name is 69\n",
      "\n",
      "\n",
      "Type of the input is: String\n"
     ]
    }
   ],
   "source": [
    "# Julia program to take input from user\n",
    "\n",
    "# prompt to input\n",
    "print(\"What's your name ? \\n\\n\")\n",
    "\n",
    "# Calling rdeadline() function\n",
    "name = readline()\n",
    "\n",
    "println(\"The name is \", name)\n",
    "print(\"\\n\\n\")\n",
    "\n",
    "# typeof() determines the datatype.\n",
    "println(\"Type of the input is: \", typeof(name))\n"
   ]
  },
  {
   "cell_type": "markdown",
   "id": "28b89ceb",
   "metadata": {},
   "source": [
    "In order to cast the string to a integer, you use the parse function.\n",
    "`parse(Int64, num)`"
   ]
  },
  {
   "cell_type": "code",
   "execution_count": 18,
   "id": "e7a90720",
   "metadata": {},
   "outputs": [
    {
     "name": "stdout",
     "output_type": "stream",
     "text": [
      "stdin> 69.69\n",
      "String\n",
      "Float64\n"
     ]
    }
   ],
   "source": [
    "num = readline()\n",
    "println(typeof(num))\n",
    "num = parse(Float64, num)\n",
    "println(typeof(num))"
   ]
  },
  {
   "cell_type": "markdown",
   "id": "5cf02115",
   "metadata": {},
   "source": [
    "# Functions in Julia\n",
    "\n",
    "A function is defined with the following syntax\n",
    "\n",
    "```\n",
    "function function_name(var1, var2)\n",
    "    Function Body\n",
    "    return value\n",
    "end```\n",
    "\n",
    "\n",
    "A function is called using the traditional paranthesis syntax."
   ]
  },
  {
   "cell_type": "code",
   "execution_count": 1,
   "id": "56224973",
   "metadata": {},
   "outputs": [
    {
     "data": {
      "text/plain": [
       "add_two (generic function with 1 method)"
      ]
     },
     "execution_count": 1,
     "metadata": {},
     "output_type": "execute_result"
    }
   ],
   "source": [
    "function add_two(x,y)\n",
    "    z = x + y\n",
    "    return z\n",
    "end\n"
   ]
  },
  {
   "cell_type": "code",
   "execution_count": 2,
   "id": "c5eb4639",
   "metadata": {},
   "outputs": [
    {
     "data": {
      "text/plain": [
       "9"
      ]
     },
     "execution_count": 2,
     "metadata": {},
     "output_type": "execute_result"
    }
   ],
   "source": [
    "add_two(4,5)"
   ]
  },
  {
   "cell_type": "code",
   "execution_count": null,
   "id": "a31ce545",
   "metadata": {},
   "outputs": [],
   "source": []
  }
 ],
 "metadata": {
  "kernelspec": {
   "display_name": "Julia 1.6.4",
   "language": "julia",
   "name": "julia-1.6"
  },
  "language_info": {
   "file_extension": ".jl",
   "mimetype": "application/julia",
   "name": "julia",
   "version": "1.6.4"
  }
 },
 "nbformat": 4,
 "nbformat_minor": 5
}
